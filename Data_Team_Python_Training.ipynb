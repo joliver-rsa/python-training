{
  "nbformat": 4,
  "nbformat_minor": 0,
  "metadata": {
    "colab": {
      "name": "Data Team Python Training.ipynb",
      "provenance": [],
      "collapsed_sections": [],
      "toc_visible": true
    },
    "kernelspec": {
      "name": "python3",
      "display_name": "Python 3"
    },
    "language_info": {
      "name": "python"
    }
  },
  "cells": [
    {
      "cell_type": "markdown",
      "source": [
        "# Welcome to python in jupyter notebooks!\n",
        "\n",
        "Google colab is an easy way to work in python: it hosts a particular **python environment** which you can access using a **jupyter notebook**.\n",
        "\n",
        "\n",
        "*   **Python environment**: A term used to describe the version of python you have installed, along with any extra python packages you have enabled (more on this later).\n",
        "*   **Jupyter notebook**: A useful way of working with python that's a little more user friendly than coding directly into a python file.\n",
        "\n",
        "## Important Notice: Google colab hosts its files outside RSA's secure network. Do not upload any RSA data to Google colab under any circumstances!\n",
        "\n"
      ],
      "metadata": {
        "id": "fFep8cjgErba"
      }
    },
    {
      "cell_type": "markdown",
      "source": [
        "## Jupyter notebook breakdown\n",
        "\n",
        "![jupyter](https://datascience.foundation/backend/web/uploads/blog/Working-with-Python-on-Cloud.png)\n",
        "\n",
        "As opposed to being a flat code file (like writing SQL or SAS in a single file), jupyter notebooks are made up of **cells** (think excel cells for comparison). Cells can either contain **python code** or **markdown text**. \n",
        "\n",
        "### Markdown text\n",
        "This cell contains markdown text, which uses special characters for formatting so that it can be shown correctly on various websites. \n",
        "\n",
        " * Double click this cell to make the markdown version of the text appear!\n",
        " * Click away (on another cell) and the text will display as normal.\n",
        "\n",
        "You can easily create code or text cells by pressing the ```+ Code``` and ```+ Text``` buttons towards the top of your screen. Cells can be easily deleted by clicking in a cell and clicking the bin icon on the toolbar in the upper right of the cell.\n",
        "\n",
        "\n",
        "---\n",
        "\n",
        "### Python code\n",
        "\n",
        "![python](https://www.python.org/static/community_logos/python-logo-master-v3-TM-flattened.png)\n",
        "\n",
        "Code cells allow pieces of code to be easily rewritten/run in isolation, so that you can make changes without needing to rewrite/run your entire code (just like running a single part of a sql/sas file). The output of a code cell appears beneath it (once run), and can also be seen by other cells in the notebook.\n",
        "\n",
        "The cell directly below this one contains some simple python code. You can run it in a few different ways:\n",
        " * Click into the cell and click the \"play\" button to the far left of the cell.\n",
        " * Click into the cell and use the keyboard command ```ctrl + enter```, which is the keyboard shortcut for running a cell.\n",
        " * Click into the cell and use the keyboard command ```shift + enter```, which is the keyboard shortcut for running a cell and immediately moving to the next cell underneath it. If no cell exists, this command creates a new one.\n",
        "\n",
        "Try running the cell below now. "
      ],
      "metadata": {
        "id": "THFY4KWeF72o"
      }
    },
    {
      "cell_type": "code",
      "source": [
        "print('Hello world!')"
      ],
      "metadata": {
        "id": "aJEa6ZUlH96V"
      },
      "execution_count": null,
      "outputs": []
    },
    {
      "cell_type": "markdown",
      "source": [
        "The next two cells show how information can be shared between cells in the notebook: we're going to save some information in the first cell, and then print it in the second. \n",
        "\n",
        "Both cells have to be run for the code to succeed and show us the output. Once we have run our cell to save our customer's name, the notebook will remember it until it is overwritten or the notebook is restarted. "
      ],
      "metadata": {
        "id": "FQG5wb1PIofJ"
      }
    },
    {
      "cell_type": "code",
      "source": [
        "customer_name = 'Harry Potter'"
      ],
      "metadata": {
        "id": "rELd3VSdI2Hd"
      },
      "execution_count": null,
      "outputs": []
    },
    {
      "cell_type": "code",
      "source": [
        "print(customer_name)"
      ],
      "metadata": {
        "id": "hxw6GBpoI6mb"
      },
      "execution_count": null,
      "outputs": []
    },
    {
      "cell_type": "markdown",
      "source": [
        "It's important to be careful with memory when working in a Jupyter notebook. You might need to run multiple cells together to make sure your code updates correctly!\n",
        "\n",
        "Jupyter notebook cells have lots more interesting features, but we won't go into detail on them now. Feel free to explore and play around with code and text cells - there's no better way to understand how they work!"
      ],
      "metadata": {
        "id": "K3DYfSh9JQIx"
      }
    },
    {
      "cell_type": "markdown",
      "source": [
        "# Variables and Functions\n",
        "\n",
        "We're going to start simply by talking about three types of python objects: **comments**, **variables** and **functions**.\n",
        "\n",
        " * Comments in python work exactly the same as comments in other programming languages. I'll use them in this notebook to help give some instruction in code cells. They can be written by beginning any line of code with the '#' character\n",
        " * Variables hold data in memory so that we can work with it easily and without needing to type it out by hand. Variables can have lots of different types, but we'll focus on the most common python types in this notebook. Hopefully a few will be familiar!\n",
        "  * Int: Contains whole, integer numbers\n",
        "  * Float: Contains any number, including decimals\n",
        "  * String: Contains text, including single characters and full sentences\n",
        "  * Bool: Contains either True or False\n",
        " * Functions are tools in python that allow us to manipulate our variables. In python, these are normally a command word followed by brackets. Some common examples are:\n",
        "  * print(): Prints information as text for us to read\n",
        "  * type(): Returns the type of a variable\n",
        "  * max(): Returns the maximum of a list of values\n",
        "  * min(): Returns the minimum of a list of values\n",
        "  * Standard maths operators (+, -, *, /)   \n",
        "Most functions in excel, sql, and sas will have a python equivalent - more often than not, they can be found by googling something like \"excel sum function in python\"\n",
        "\n",
        "Let's play with some of these now! "
      ],
      "metadata": {
        "id": "_I35CFICLlAo"
      }
    },
    {
      "cell_type": "markdown",
      "source": [
        "## Assigning variables and basic variable types\n",
        "\n",
        "Creating a variable in python is easy: we just need to name our variable whatever we want, and set its value using '='. Variables can be named almost anything, but need to follow three rules:\n",
        " * Variables can't contain spaces (but can contain underscores)\n",
        " * Variables can't begin with numbers\n",
        " * Variables can't be named after any terms that already serve a function in python (like 'int' or 'float').\n",
        " \n",
        "Python will automatically select an appropriate type for the variable (although this can be manually overridden later on).\n",
        "\n",
        "Run the cell below, which creates some variables of a fictional driver and prints their types. Try replacing the variables with values of your own, or create new variables to see what type python assigns them. "
      ],
      "metadata": {
        "id": "c7JI3o0zMuNr"
      }
    },
    {
      "cell_type": "code",
      "source": [
        "# First let's assign some variables\n",
        "customer_name = 'Harry Potter'\n",
        "age = 42\n",
        "driver_rating = 3.5\n",
        "only_driver = True\n",
        "\n",
        "# Now let's print the types of our variables\n",
        "print(type(customer_name))\n",
        "print(type(age))\n",
        "print(type(driver_rating))\n",
        "print(type(only_driver))"
      ],
      "metadata": {
        "id": "4kvWGnxVMG8C"
      },
      "execution_count": null,
      "outputs": []
    },
    {
      "cell_type": "markdown",
      "source": [
        "The best variable names are short and describe what information the variable holds, but can actually be named whatever you like."
      ],
      "metadata": {
        "id": "xvK24Ge3Ljq1"
      }
    },
    {
      "cell_type": "code",
      "source": [
        "# Let's assign the same variables to new names\n",
        "name_of_my_nextdoor_neighbour = 'Ron Weasley'\n",
        "number_of_dogs_I_own = 42\n",
        "how_many_timeas_did_I_fall_asleep_at_work_today = 3.5\n",
        "am_I_going_to_eat_a_whole_pizza_for_dinner = True\n",
        "\n",
        "# And now print them just as before\n",
        "print(type(name_of_my_nextdoor_neighbour))\n",
        "print(type(number_of_dogs_I_own))\n",
        "print(type(how_many_timeas_did_I_fall_asleep_at_work_today))\n",
        "print(type(am_I_going_to_eat_a_whole_pizza_for_dinner))"
      ],
      "metadata": {
        "id": "_mARc3uQLp2d"
      },
      "execution_count": null,
      "outputs": []
    },
    {
      "cell_type": "code",
      "source": [
        "# When it comes to using maths operators with variables, we have to be \n",
        "# careful about mixing variable types. \n",
        "\n",
        "# Set the variables below using the drop down menus, and see what\n",
        "# happens when you try to add them together. Don't forget to run the\n",
        "# cell once you've chosen your variables!\n",
        "\n",
        "variable1 = 10 #@param [10, 3.75, \"'Hello'\"] {type: \"raw\"}\n",
        "variable2 = 20 #@param [20, 36.3333339, \"'World'\"] {type: \"raw\"}\n",
        "\n",
        "print(variable1 + variable2)\n",
        "print(type(variable1 + variable2))"
      ],
      "metadata": {
        "id": "XHsxLq_JN3uR"
      },
      "execution_count": null,
      "outputs": []
    },
    {
      "cell_type": "markdown",
      "source": [
        "Strings can be added to strings to create longer strings (the strings are \"concatenated\").  \n",
        "Two ints added together will remain ints, but an int added to a float will become a float."
      ],
      "metadata": {
        "id": "2YFA4TiVQ3_O"
      }
    },
    {
      "cell_type": "code",
      "source": [
        "# When it comes to using maths operators with variables, we have to be \n",
        "# careful about mixing variable types. \n",
        "\n",
        "# Set the variables below using the drop down menus, and see what\n",
        "# happens when you try to add them together. Don't forget to run the\n",
        "# cell once you've chosen your variables!\n",
        "\n",
        "variable1 = 10 #@param [10, 3.75, \"'Hello'\"] {type: \"raw\"}\n",
        "variable2 = 20 #@param [20, 36.3333339, \"'World'\"] {type: \"raw\"}\n",
        "\n",
        "print(variable1 * variable2)\n",
        "print(type(variable1 * variable2))"
      ],
      "metadata": {
        "id": "7c2JvSOPQlM_"
      },
      "execution_count": null,
      "outputs": []
    },
    {
      "cell_type": "markdown",
      "source": [
        "\n",
        "Strings can be multiplied by ints to repeat them many times, but can't be multiplied by floats.   \n",
        "Ints multiplied by ints remain as ints.  \n",
        "Ints multiplied by floats become floats. "
      ],
      "metadata": {
        "id": "U-I9q69yMgUs"
      }
    },
    {
      "cell_type": "markdown",
      "source": [
        "# Importing packages\n",
        "\n",
        "Importing packages is an extremely common python practice. Core python is very lightweight because some more advanced properties aren't included by default. Many packages are included by default in every python installation, but custom packages can also be written by other authors for more specific functions. \n",
        "\n",
        "\n",
        "It's good practice to put all of your import statements at the top of your python file/notebook, because it allows users to see if they have all of the required packages installed before running the code.\n",
        "\n",
        "Additional packages can be imported using the import function which looks like:\n",
        "\n",
        "```\n",
        "import package_name\n",
        "```\n",
        "\n",
        "Sometimes, packages will be imported using an alias which is shorter and easier to type (useful for some more advanced techniques). This looks like:\n",
        "\n",
        "```\n",
        "import package_name as alias\n",
        "```\n",
        "Alias can be thought of like a variable name - it's completely decided by the user and is just a shorthand to access the package's information.\n",
        "\n",
        "Some common imports to see in data science/analysis are pandas, numpy, and pyplot (a subpackage of matplotlib). We'll discuss these more in future sessions, but these imports commonly look like:\n",
        "```\n",
        "import numpy as np\n",
        "import pandas as pd\n",
        "from matplotlib import pyplot as plt\n",
        "```"
      ],
      "metadata": {
        "id": "FJiuiNyKGIwM"
      }
    },
    {
      "cell_type": "markdown",
      "source": [
        "# Tuples, dictionaries, and lists\n",
        "\n",
        "One of python's most useful features is the ability to group multiple basic objects into a single collection which can be easily referred to and used in code. This is done through the use of **tuples**, **lists**, and **dictionaries**: all collect data of all types together, but in different ways: \n",
        "\n",
        "![tuples, lists, dictionaries](https://miro.medium.com/max/795/1*DxD-6bZrRg7qSa7hg2bbtA.png)\n",
        "\n",
        "*   **Tuples** are collections of ordered data that are immutable (cannot be changed)\n",
        "*   **Lists** are ordered collections of data that are mutable\n",
        "*   **Dictionaries** are ordered collections of data stored in key-value pairs\n",
        "*   **Sets** aren't particularly relevant for us, so we'll skip over them for now\n",
        "\n",
        "These definitions can be difficult to visualise, so we will explain with some examples. \n",
        "\n",
        "\n"
      ],
      "metadata": {
        "id": "BkvoH6kdN_6c"
      }
    },
    {
      "cell_type": "markdown",
      "source": [
        "### Tuples\n",
        "\n",
        "Tuples are created using normal brackets e.g.:   \n",
        "```my_tuple = (100, 150, 200)```\n",
        "\n",
        "Individual elements of a list can be accessed using square brackets e.g.:   \n",
        "```print(my_tuple[0])```\n",
        "\n",
        "\n",
        "Remember: python starts counting at zero. This means the first element of the tuple is element 0, the second is element 1, and so on. \n",
        "\n",
        "\n",
        "```print(my_tuple[0])``` returns ```100```   \n",
        "```print(my_tuple[1])``` returns ```150```   \n",
        "```print(my_tuple[2])``` returns ```200```\n",
        "\n",
        "\n",
        "Tuples are immutable, which means they can't be changed. New elements can't be added, and existing elements can't be deleted.   \n",
        "Elements of the tuple can be accessed, but they cannot be individually changed."
      ],
      "metadata": {
        "id": "uS9AVfvmSmsX"
      }
    },
    {
      "cell_type": "code",
      "source": [
        "# First let's set the tuple\n",
        "# Tuples can contain a mix of data types, or contain only data of a single type\n",
        "my_tuple = (0.5, 'Dog', 17)\n",
        "\n",
        "# Print it so we can see it\n",
        "print(my_tuple)\n",
        "\n",
        "# Print the type to check it's really a tuple\n",
        "print(type(my_tuple))\n",
        "\n",
        "# Print the tuple's first element\n",
        "print(my_tuple[0])"
      ],
      "metadata": {
        "id": "PWP3__MeTTr0"
      },
      "execution_count": null,
      "outputs": []
    },
    {
      "cell_type": "code",
      "source": [
        "# Let's try changing the first element of the tuple\n",
        "# Uncomment the line below and run this cell. \n",
        "# This code should have an error, because the tuple is immutable\n",
        "\n",
        "#my_tuple[0] = 5"
      ],
      "metadata": {
        "id": "OeVVxZV9Tves"
      },
      "execution_count": null,
      "outputs": []
    },
    {
      "cell_type": "markdown",
      "source": [
        "The main feature of tuples that makes them unique is that they are immutable. They are the best for storing data that should be protected from being changed e.g. coordinates on a graph."
      ],
      "metadata": {
        "id": "lRoNWqH0Vdt9"
      }
    },
    {
      "cell_type": "markdown",
      "source": [
        "### Lists\n",
        "\n",
        "Lists are created using square brackets e.g.:   \n",
        "```my_list = [100, 150, 200]```\n",
        "\n",
        "Lists are accessed with square brackets e.g.:   \n",
        "```print(my_list[0])```\n",
        "\n",
        "Reminder: python starts counting at zero.    \n",
        "```print(my_list[0])``` returns ```100```   \n",
        "```print(my_list[1])``` returns ```150```   \n",
        "```print(my_list[2])``` returns ```200```\n",
        "\n",
        "Lists are ordered and mutable. Created lists can be changed, but new elements are always added to the end of the list. \n",
        "\n",
        "We can add elements to the list with append:   \n",
        "```my_list.append('New element')```\n",
        "\n",
        "We can remove elements with pop:   \n",
        "```my_list.pop(0)```"
      ],
      "metadata": {
        "id": "fJuOGljyV2iq"
      }
    },
    {
      "cell_type": "code",
      "source": [
        "# First let's set the list\n",
        "my_list = [99, 'cat', True]\n",
        "\n",
        "# Print it so we can see it\n",
        "print(my_list)\n",
        "\n",
        "# Print the type to check it's really a list\n",
        "print(type(my_list))\n",
        "\n",
        "# Print the list's first element\n",
        "print(my_list[0])"
      ],
      "metadata": {
        "id": "ufZsdqzbW9Dx"
      },
      "execution_count": null,
      "outputs": []
    },
    {
      "cell_type": "code",
      "source": [
        "# First let's print the original list so we have a reference\n",
        "print(my_list)\n",
        "\n",
        "# Now let's add an element to the list and check that it's updated. \n",
        "my_list.append('New element')\n",
        "print(my_list)\n",
        "\n",
        "# And now use pop to remove the same element\n",
        "# Instead of counting the list to find the index of the last number\n",
        "# we can just use -1 as a shortcut\n",
        "my_list.pop(-1)\n",
        "print(my_list)\n",
        "\n",
        "# And finally let's update an element of the list\n",
        "my_list[0] = 'dog'\n",
        "print(my_list)"
      ],
      "metadata": {
        "id": "PaNXQ7eaXoHx"
      },
      "execution_count": null,
      "outputs": []
    },
    {
      "cell_type": "markdown",
      "source": [
        "### Dictionaries\n",
        "\n",
        "Dictionaries are created using curly brackets and key-value pairs e.g.:   \n",
        "```my_dict = {'name': 'john doe', 'age': 17}```   \n",
        "\n",
        "Dictionaries are accessed using keys e.g.:   \n",
        "```print(my_dict['name'])```\n",
        "\n",
        "\n",
        "\n",
        "```print(my_dict['name'])``` returns ```'john doe'```   \n",
        "```print(my_dict['age'])``` returns ```17```   \n",
        "\n",
        "\n",
        "We can add new elements to the dictionary with update e.g.:   \n",
        "```my_dict.update({'driver_score': 3.5})```\n",
        "\n",
        "And we can remove elements with pop e.g.:  \n",
        "```my_dict.pop('age')```"
      ],
      "metadata": {
        "id": "a_F59FIZgqiE"
      }
    },
    {
      "cell_type": "code",
      "source": [
        "# First let's set the dictionary\n",
        "my_dict = {\n",
        "          'name': 'Harry Potter', \n",
        "          'age': 42\n",
        "}\n",
        "\n",
        "# Print it so we can see it\n",
        "print(my_dict)\n",
        "\n",
        "# Print the type to check it's really a dictionary\n",
        "print(type(my_dict))\n",
        "\n",
        "# Print the dict's name element\n",
        "print(my_dict['name'])"
      ],
      "metadata": {
        "id": "MXp3ep4Jfy0S"
      },
      "execution_count": null,
      "outputs": []
    },
    {
      "cell_type": "code",
      "source": [
        "# First let's print the original dict so we have a reference\n",
        "print(my_list)\n",
        "\n",
        "# Now let's add an element to the list and check that it's updated. \n",
        "my_dict.update({'driver score': 3.5})\n",
        "print(my_dict)\n",
        "\n",
        "# And now use pop to remove the same element\n",
        "my_dict.pop('driver score')\n",
        "print(my_dict)\n",
        "\n",
        "# And finally let's update an element of the list\n",
        "my_dict['name'] = 'Ron Weasley'\n",
        "print(my_dict)"
      ],
      "metadata": {
        "id": "8Qe3rMOCi81O"
      },
      "execution_count": null,
      "outputs": []
    },
    {
      "cell_type": "markdown",
      "source": [
        "### Nested storage\n",
        "\n",
        "An important and frequently used feature of python is its ability to nest tuples, lists, and dictionaries. The most common examples are dictionaries that contain lists as their values, or lists of lists of information. \n",
        "\n",
        "Let's look at an example:"
      ],
      "metadata": {
        "id": "MCEyqYSUlO_-"
      }
    },
    {
      "cell_type": "code",
      "source": [
        "# This dictionary contains regular variables as values, but also tuples, lists\n",
        "# and dictionaries\n",
        "\n",
        "restaurant_dict = {\n",
        "    'Name': 'Party Pizza',\n",
        "    'Phone numbers': {'manager': '618-555-6178', 'restaurant': '618-555-WICH'},\n",
        "    'Menu': \n",
        "      {'Classic cheese': 6.00,\n",
        "       'Hawaiian heaven': 6.50,\n",
        "       'Party pepperoni': 8.00,\n",
        "       'Shredder special': 9.50,\n",
        "       'Splinter supreme': 10.00},\n",
        "    'Staff': ['Leo', 'Raph', 'Donny', 'Mike', 'April', 'Casey'],\n",
        "    'Opening hours': (10.30, 00.00)\n",
        "}"
      ],
      "metadata": {
        "id": "nuXNDRKdlzmO"
      },
      "execution_count": null,
      "outputs": []
    },
    {
      "cell_type": "code",
      "source": [
        "# We can store more complex items in variables to access them, or just use\n",
        "# multiple indices at the same time\n",
        "\n",
        "menu_dict = restaurant_dict['Menu']\n",
        "\n",
        "print(menu_dict['Splinter supreme'])\n",
        "print('--')\n",
        "print(restaurant_dict['Menu']['Splinter supreme'])"
      ],
      "metadata": {
        "id": "eT11-T4FzTJ-"
      },
      "execution_count": null,
      "outputs": []
    },
    {
      "cell_type": "markdown",
      "source": [
        "# If statements\n",
        "\n",
        "If statements are checks we can make in our code to run certain code when a particular condition is met. If statements are similar to WHERE or CASE WHEN statements in sql. \n",
        "\n",
        "![if statement](http://www.trytoprogram.com/wp-content/uploads/if.jpeg)\n",
        "\n",
        "Let's take a look at an example:"
      ],
      "metadata": {
        "id": "o_j50OLrnGpm"
      }
    },
    {
      "cell_type": "code",
      "source": [
        "# First let's set a variable to check with an if statement\n",
        "\n",
        "number = 5 #@param [5, 10, 15, 20] {type: \"raw\"}\n",
        "\n",
        "# Now let's check if the number we've chosen is less than 10\n",
        "\n",
        "if number < 10:\n",
        "  print(\"Number is less than 10\")"
      ],
      "metadata": {
        "id": "FMJeXNxAoWDx"
      },
      "execution_count": null,
      "outputs": []
    },
    {
      "cell_type": "markdown",
      "source": [
        "This works pretty much as expected: we only see our printed message if our number is less than 10.\n",
        "\n",
        "Notice that if we set our variable to be 10 we don't see our message (because 10 is not less than 10). This is because of the symbol we used in our if statement. We can use any mathematical comparison we like, and it works as normal i.e.:\n",
        " * less than ```<``` / greater than ```>```\n",
        " * less than or equal ```<=``` / greater than or equal ```>=```\n",
        " * equal to ```==``` (We can't just use ```=```, because python uses this to assign variables)\n",
        " * not equal to ```!=```   \n",
        "\n",
        "There are plenty more comparisons we can make, but going through all of them would take too much time!\n",
        "\n",
        "Indentation is important for if statements. For example, in the following code:\n",
        "```\n",
        "if condition:\n",
        "  python code 1\n",
        "python code 2\n",
        "```\n",
        "the line ```python code 1``` will only be run if the condition in the if statement is met, but the line ```python code 2``` will always be run even if the condition is not met. "
      ],
      "metadata": {
        "id": "k3ad5k_1o_SR"
      }
    },
    {
      "cell_type": "markdown",
      "source": [
        "### elif and else\n",
        "\n",
        "What if we want to make a comparison with multiple conditions? Only using if can introduce problems if we're not careful:"
      ],
      "metadata": {
        "id": "C2mIkvBPq5JD"
      }
    },
    {
      "cell_type": "code",
      "source": [
        "# First let's set our variable to compare\n",
        "\n",
        "number = 5 #@param [5, 10, 15, 20] {type: \"raw\"}\n",
        "\n",
        "# This time we'll use a variable for our message too, just to see why only using\n",
        "# if statements can caused problems. For now let's leave it blank\n",
        "\n",
        "message = \"\"\n",
        "\n",
        "# Let's copy our last if statement, but add another condition to check if our\n",
        "# number is less than 15\n",
        "\n",
        "if number < 10:\n",
        "  message = (\"Number is less than 10\")\n",
        "if number < 15:\n",
        "  message = (\"Number is less than 15\")\n",
        "\n",
        "print(message)"
      ],
      "metadata": {
        "id": "wsnPD4r0rAwM"
      },
      "execution_count": null,
      "outputs": []
    },
    {
      "cell_type": "markdown",
      "source": [
        "This code works fine for 10, 15, and 20, but runs into problems with the number 5. Because both of our if conditions are running even after a message is set, our code is saying \"Number is less than 15\" when it should be saying \"Number is less than 10\". \n",
        "\n",
        "This can be fixed with elif and else statements. These join our two separate if statements together:"
      ],
      "metadata": {
        "id": "QKnypNpjreu6"
      }
    },
    {
      "cell_type": "code",
      "source": [
        "# First let's set our variable to compare\n",
        "\n",
        "number = 5 #@param [5, 10, 15, 20] {type: \"raw\"}\n",
        "\n",
        "# This time we'll use a variable for our message too, just to see why only using\n",
        "# if statements can caused problems. For now let's leave it blank\n",
        "\n",
        "message = \"\"\n",
        "\n",
        "# Let's copy our last if statement, but add another condition to check if our\n",
        "# number is less than 15\n",
        "\n",
        "if number < 10:\n",
        "  message = (\"Number is less than 10\")\n",
        "elif number < 15:\n",
        "  message = (\"Number is less than 15\")\n",
        "else:\n",
        "  message = (\"Number is greater than 15\")\n",
        "\n",
        "print(message)"
      ],
      "metadata": {
        "id": "Yxtl5VEYuO7o"
      },
      "execution_count": null,
      "outputs": []
    },
    {
      "cell_type": "markdown",
      "source": [
        "Now if we run our code, it works correctly for all of our numbers. This is because our elif statement is only looked at if our first if statement is false. Finally, our else statement is only look at if all other statements are false. "
      ],
      "metadata": {
        "id": "0WZQCwDct6Vi"
      }
    },
    {
      "cell_type": "markdown",
      "source": [
        "# Loops\n",
        "\n",
        "Loops allow us to repeat snippets or sections of code without having to type it out manually. The most useful type of loop is the \"for loop\", where the loop runs its code for every item in a given range. For example: \n",
        "\n",
        "* Every item in a list\n",
        "* Every number between 1 and 10\n",
        "* Every letter in a string\n",
        "\n",
        "For loops take the following form: \n",
        "\n",
        "```\n",
        "for x in y:\n",
        "  code to run\n",
        "```\n",
        "\n",
        "Indentation is important for loops. After the colon, only indented lines of code will be run. For example, in the following code:\n",
        "```\n",
        "for x in y:\n",
        "  python code 1\n",
        "python code 2\n",
        "```\n",
        "only the line ```python code 1``` will be looped, and the line ```python code 2``` will be run only once as for normal code. "
      ],
      "metadata": {
        "id": "Rlb5jtoLJ4on"
      }
    },
    {
      "cell_type": "code",
      "source": [
        "# Let's create a list and then loop over it with a for loop\n",
        "\n",
        "my_list = ['Harry', 'Ron', 'Hermione', 'Neville']\n",
        "\n",
        "# Now we can loop over the list to print every name\n",
        "\n",
        "for name in my_list:\n",
        "  print(name)\n",
        "\n",
        "# \"name\" is a variable we set to refer to whatever we're looping over\n",
        "# name makes sense in this list, but we can name it just as we would any\n",
        "# other variable\n",
        "\n",
        "for really_big_cat in my_list:\n",
        "  print(really_big_cat)"
      ],
      "metadata": {
        "id": "tUbQsHPRK3Q7"
      },
      "execution_count": null,
      "outputs": []
    },
    {
      "cell_type": "code",
      "source": [
        "# Looping over a series of numbers is just as easy\n",
        "\n",
        "for number in range(0, 5):\n",
        "  print(number)\n",
        "\n",
        "print('--')\n",
        "\n",
        "# The range function is important for this to work. If we want to start at 0,\n",
        "# we don't really need to specifiy it in the rnage function but it makes it\n",
        "# easier to read\n",
        "\n",
        "for number in range(5):\n",
        "  print(number)\n",
        "\n",
        "print('--')\n",
        "\n",
        "# We can also loop between numbers without starting at 0\n",
        "\n",
        "for number in range(15, 20):\n",
        "  print(number)"
      ],
      "metadata": {
        "id": "JdFk0tFDM5-n"
      },
      "execution_count": null,
      "outputs": []
    },
    {
      "cell_type": "code",
      "source": [
        "# Looping over a string is just as easy\n",
        "\n",
        "for character in 'string':\n",
        "  print(character)"
      ],
      "metadata": {
        "id": "t8C78gf5NST1"
      },
      "execution_count": null,
      "outputs": []
    },
    {
      "cell_type": "code",
      "source": [
        "# Loops can also be nested, which can be a very useful trick (although can\n",
        "# easily become resource intensive if you're not careful!)\n",
        "\n",
        "# First, let's define a list of lists. This is not uncommon to see, but we will\n",
        "# learn in future that there are better ways to store data.\n",
        "\n",
        "my_list= [\n",
        "    ['Harry', 'Ron', 'Hermione'],\n",
        "    ['Wayne', 'Garth', 'Cassandra'],\n",
        "    ['Luke', 'Leia', 'Han'],\n",
        "    ['Dom', 'Brian', 'Letty']\n",
        "]\n",
        "\n",
        "# Now we can loop over both lists. Indentation is key to making both of these\n",
        "# loops work as we want. The innermost loop must be indented enough to be \n",
        "# completely contained within the first loop. \n",
        "\n",
        "for film in my_list:\n",
        "  for character in film:\n",
        "    print(character)"
      ],
      "metadata": {
        "id": "A4jVfs5BNwL_"
      },
      "execution_count": null,
      "outputs": []
    },
    {
      "cell_type": "markdown",
      "source": [
        "# Functions\n",
        "\n",
        "Functions allow us to write sections of code that can easily be called back to with a single short command. While we have already seen some pre-existing functions in python like ```type``` and ```print```, we can also write our own functions. \n",
        "\n",
        "Functions normally have the following form:\n",
        "```\n",
        "def function_name(arguments):\n",
        "  '''Docstring'''\n",
        "\n",
        "  code to execute\n",
        "\n",
        "  return output_variable #Optional\n",
        "\n",
        "```\n",
        "Defining a function has several important components:\n",
        "\n",
        "\n",
        "*   The ```def``` command is what allows us to *define* our new function. \n",
        "*   The arguments within the brackets detail the variables that the function requires to run.\n",
        "*   A docstring explains the purpose of a function and how it works. Normally docstrings use specific formats, but we'll keep it simple for this tutorial. \n",
        "*   Our code makes up the main body of the function, and can be in whatever form we decide\n",
        "*   A return statement returns a final variable from the function, and allows our function output to be saved as a variable for us to use in our main code. This step is optional and not needed for every custom function. \n",
        "\n",
        "Let's take a closer look with some examples"
      ],
      "metadata": {
        "id": "EreXXkeEFJ6y"
      }
    },
    {
      "cell_type": "code",
      "source": [
        "# First, let's define a function, while keeping it as simple as possible. \n",
        "\n",
        "def print_hello():\n",
        "  '''Prints the word hello'''\n",
        "\n",
        "  print(\"Hello!\")"
      ],
      "metadata": {
        "id": "OjWNp2h5obdY"
      },
      "execution_count": null,
      "outputs": []
    },
    {
      "cell_type": "code",
      "source": [
        "# When the cell above is run, we can see that there is no output.\n",
        "# This is because our function has been defined, but the code isn't\n",
        "# run until we call our function. Let's do that now:\n",
        "\n",
        "print_hello()"
      ],
      "metadata": {
        "id": "EOiaYGFsqLRf"
      },
      "execution_count": null,
      "outputs": []
    },
    {
      "cell_type": "code",
      "source": [
        "# Our above function didn't need a return statement, it just executes our code\n",
        "# and ends immediately. Let's write a slightly more complicated function that\n",
        "# adds two numbers together. \n",
        "\n",
        "def add(number1, number2):\n",
        "  '''Returns sum of two input numbers'''\n",
        "\n",
        "  return number1 + number2"
      ],
      "metadata": {
        "id": "uzcDxhMgqWRR"
      },
      "execution_count": null,
      "outputs": []
    },
    {
      "cell_type": "code",
      "source": [
        "# Now let's call our function. We can choose any two numbers we like, and our\n",
        "# function should return their sum. We can either print that value or use it\n",
        "# like we would any other variable\n",
        "\n",
        "sum = add(3, 6)\n",
        "print(sum)\n",
        "\n",
        "print('--')\n",
        "\n",
        "print(add(123456789, 987654322))\n",
        "\n",
        "print('--')\n",
        "\n",
        "x = 9.75\n",
        "y = 3.14159265\n",
        "print(add(x, y))"
      ],
      "metadata": {
        "id": "w617DRZhySHS"
      },
      "execution_count": null,
      "outputs": []
    },
    {
      "cell_type": "markdown",
      "source": [
        "## Optional arguments and default values\n",
        "\n",
        "Functions have a lot of additional functionality which can be very useful for specific jobs. Optional arguments are arguments that *can* be included, but aren't required for the function to run. \n",
        "\n",
        "These are created by using default values, which is the value the function can use if the argument is not directly provided by the user. "
      ],
      "metadata": {
        "id": "IGjrKOLW-tVW"
      }
    },
    {
      "cell_type": "code",
      "source": [
        "# Let's create a new function to subtract two numbers and include an optional\n",
        "# argument by using default values\n",
        "\n",
        "def subtract(number1=0, number2=0, number3=0):\n",
        "  '''Subtracts upto three numbers from eachother. Righthand numbers will\n",
        "  be subtracted from the leftmost number provided.'''\n",
        "\n",
        "  return number1-number2-number3"
      ],
      "metadata": {
        "id": "GzFpGTpm-BVV"
      },
      "execution_count": null,
      "outputs": []
    },
    {
      "cell_type": "code",
      "source": [
        "# Our function can have up to three numbers used in the subtraction. If any\n",
        "# number argument is not provided, a value of 0 will be used in its place.\n",
        "\n",
        "print(subtract(100, 25, 25))\n",
        "print(subtract(100, 25))\n",
        "print(subtract(100))\n",
        "print(subtract())"
      ],
      "metadata": {
        "id": "n8JHqb74_uy8"
      },
      "execution_count": null,
      "outputs": []
    },
    {
      "cell_type": "markdown",
      "source": [
        "# Error handling\n",
        "\n",
        "So far, our functions have always worked because we have been very careful about how we use them. But what would happen if, instead of providing numbers into our add() and subtract() functions, we gave them strings or lists? \n",
        "\n",
        "Python's solution to unexpected behaviour is error handling. This topic can become very advanced, but the general idea is that we can raise our own errors if our functions aren't used properly. \n",
        "\n",
        "Some common examples of error handling are try/except statements and raise statements.\n",
        "\n",
        "\n",
        "---\n",
        "\n",
        "\n",
        "\n",
        "Try/except statements take a similar form to if/else statements:\n",
        "```\n",
        "try:\n",
        "  code to try and run\n",
        "except:\n",
        "  code to run if the code fails\n",
        "```\n",
        "we can even include else statements just like with if/elif/else. \n",
        "\n",
        "\n",
        "---\n",
        "\n",
        "We can raise an error wherever we choose, but normally they follow an if statement to check if a variable/condition is behaving as expected:\n",
        "```\n",
        "if x < 0:\n",
        "  raise Exception(\"Number cannot be lower than zero\")\n",
        "```\n",
        "if the code this exception is in fails, our custom message will be printed for the user to see. \n",
        "\n",
        "\n",
        "---\n",
        "\n",
        "We wont go through any examples of error handling here to save time, but it can be extremely helpful when writing code that other teams will interact with. "
      ],
      "metadata": {
        "id": "yIxQX1CvAOET"
      }
    },
    {
      "cell_type": "markdown",
      "source": [
        "# Putting it all together!\n",
        "\n",
        "Functions can be extremely powerful, even calling other functions. Professional python code typically only consists of classes and functions (or methods, which are functions that specifically belong to classes). \n",
        "\n",
        "Let's write another function that uses everything we've talked about in this tutorial:\n",
        "\n",
        "*   If statements\n",
        "*   Lists\n",
        "*   Dictionaries\n",
        "*   Loops\n",
        "*   Functions\n",
        "*   Error handling\n",
        "\n",
        "These technqiues on their own are very simple, but can be used together to write some incredibly powerful and streamlined code!\n",
        "\n",
        "\n"
      ],
      "metadata": {
        "id": "rz_4JE8fz2hV"
      }
    },
    {
      "cell_type": "code",
      "source": [
        "# First, let's make some fake data for us to work with. This is a list of ten\n",
        "# fake customers with only three pieces of information: \n",
        "# First name, date of birth, and driving risk\n",
        "\n",
        "customer_info = [['Harry', '31/07/1980', 'Medium'], \n",
        "                  ['Ron', '01/03/1980', 'Medium'],\n",
        "                  ['Hermione', '19/09/1979', 'Low'],\n",
        "                  ['Neville', '30/07/1980', 'Low'],\n",
        "                  ['Wayne', '25/05/1970', 'Medium'],\n",
        "                  ['Garth', '02/06/1971', 'Low'],\n",
        "                  ['Cassandra', '02/01/1972', 'Low'],\n",
        "                  ['Dom', '29/08/1976', 'High'],\n",
        "                  ['Brian', '14/07/1978', 'High'],\n",
        "                  ['Letty', '07/09/1983', 'High']\n",
        "]"
      ],
      "metadata": {
        "id": "zrELE6cl1dll"
      },
      "execution_count": null,
      "outputs": []
    },
    {
      "cell_type": "markdown",
      "source": [
        "Let's imagine a fictional scenario: this data has just come in and we need to input it in to our systems. Before we do that, we need to do two things:\n",
        "\n",
        "\n",
        "\n",
        "*   Label our data. Currently all we have is a list of lists, and we need to move this into a list of dictionaries which have appropriate keys. \n",
        "*   Add a new column to our data called \"Age\" which contains the age of the customer.\n",
        "\n",
        "We'll attempt this in a function based way, and then execute all of our code as the very last step. \n",
        "\n",
        "\n",
        "\n",
        "---\n",
        "\n",
        "The first thing to consider is how our code should be arranged. In order to keep our code as efficient as possible, we need to make sure we don't perform any unnecessary operations. \n",
        "\n",
        "For example, we need to keep the number of times we loop through our data list as low as possible (as looping over a long list of data takes a long amount of time).\n",
        "\n",
        "Let's design our solution to contain three functions:\n",
        "\n",
        "\n",
        "*   A function to convert a single list into a dictionary\n",
        "*   A function to calculate age from a given date of birth and add it to a dictionary\n",
        "*   A function to loop over our input list once, and perform our other two functions wherever they're needed. (Functions like this that actually call all of our simplre functions are commonly called \"wrapper\" functions).  \n",
        "\n"
      ],
      "metadata": {
        "id": "7umrCr_y6Ioz"
      }
    },
    {
      "cell_type": "code",
      "source": [
        "# First things first: let's write a function that will let us change a list\n",
        "# into a dictionary.\n",
        "\n",
        "# Our function will need two input arguments: an individual customer's info\n",
        "# and a list of keys for our final dictionary.\n",
        "def to_dictionary(input_list, key_list):\n",
        "  '''Converts a pair of lists into a dictionary. Keys provided in key_list.'''\n",
        "\n",
        "  # Let's start with some error handling. Our code won't work if our inputs\n",
        "  # aren't a pair of lists, or if our lists aren't the same length. We also need\n",
        "  # to make sure our lists aren't empty of values. \n",
        "\n",
        "  if len(input_list) < 1 or len(key_list) < 1:\n",
        "    raise Exception('Input lists cannot be empty')\n",
        "  if type(input_list) != list:\n",
        "    raise Exception('Input customer list must be of type \"list\"')\n",
        "  if type(key_list) != list:\n",
        "    raise Exception('List of keys must be of type \"list\"')\n",
        "  if len(input_list) != len(key_list):\n",
        "    raise Exception('Your list of keys is too short')\n",
        "\n",
        "  \n",
        "  # We can use the \"zip()\" function to combine our two lists into a tuple\n",
        "  zip_tuple = zip(key_list, input_list)\n",
        "\n",
        "  # And now all we need to do is convert our tuple into a dictionary\n",
        "  cust_dict = dict(zip_tuple)\n",
        "\n",
        "  # The very last line in our function (outside our loop) returns our\n",
        "  # output customer dictionary\n",
        "  return cust_dict"
      ],
      "metadata": {
        "id": "97ZOgRqT5vuV"
      },
      "execution_count": null,
      "outputs": []
    },
    {
      "cell_type": "code",
      "source": [
        "# Now let's write a function that will calculate a customers age and add it to\n",
        "# a customer dictionary.\n",
        "\n",
        "# Because we'll be deailing with dates, we should import python's date package.\n",
        "# Normally we would put this line at the top of our notebook, but for the\n",
        "# sake of this tutorial we'll just do it here. Python's datetime package has a \n",
        "# strange structure, so our import statement also looks a little strange\n",
        "\n",
        "from datetime import datetime"
      ],
      "metadata": {
        "id": "r-DG8rF3DQat"
      },
      "execution_count": null,
      "outputs": []
    },
    {
      "cell_type": "code",
      "source": [
        "# With datetime imported, we can start writing our actual function. \n",
        "\n",
        "# Our function will only need a single argument, which is the dictionary to \n",
        "# use as input. \n",
        "def add_age(cust_dict):\n",
        "  '''Calculates a customer's age from their date of birth and adds it to\n",
        "  a dictionary.'''\n",
        "\n",
        "  # Let's again start with some error handling. Our code will fail if our\n",
        "  # input is not a dictionary, if it doesn't contain a DOB key, or if the DOB\n",
        "  # key doesn't give us a valid date. \n",
        "\n",
        "  if type(cust_dict) != dict:\n",
        "    raise Exception('Input customer info must be of type \"dict\"')\n",
        "  if 'Date of Birth' not in cust_dict.keys():\n",
        "    raise Exception('Input dict must contain field \"Date of Birth\"')\n",
        "  try:\n",
        "    datetime.strptime(cust_dict['Date of Birth'], '%d/%m/%Y')\n",
        "  except:\n",
        "    print('Date of Birth string could not be converted to a valid date')\n",
        "    print('Please check that the Date of Birth string is valid')\n",
        "\n",
        "  # Now let's write the code to calculate our customer's age. We can use\n",
        "  # datetime's today function and take the difference from the customer's\n",
        "  # date of birth. The strptime function lets us use our string date with the \n",
        "  # datetime package. \n",
        "\n",
        "  today = datetime.today()\n",
        "  born = datetime.strptime(cust_dict['Date of Birth'], '%d/%m/%Y')\n",
        "\n",
        "  # We can access the years, months, and days of each of our dates to work \n",
        "  # out our customer's age. We can use if statements to check if the customer's\n",
        "  # birthday has happened yet this year, which will effect their final age.\n",
        "  \n",
        "  if (today.month, today.day) < (born.month, born.day):\n",
        "    cust_age = today.year - born.year - 1\n",
        "  else:\n",
        "    cust_age = today.year - born.year\n",
        "\n",
        "  # Now that we have our customer's age, the final step is to add it to the\n",
        "  # original input dictionary.\n",
        "  cust_dict.update({'Age': cust_age})\n",
        "\n",
        "  # Our function doesn't need a return statement because we're updating our\n",
        "  # original input dictionary, so we can end our function there."
      ],
      "metadata": {
        "id": "JlfrBzE3H9Qq"
      },
      "execution_count": null,
      "outputs": []
    },
    {
      "cell_type": "code",
      "source": [
        "# The very last step is to write our wrapper function that will tie everything\n",
        "# together. We want to be able to use this function for any list that comes in\n",
        "# no matter what the headings should be, so our final function needs both\n",
        "# our unlabelled data and a list of headings. \n",
        "\n",
        "def label_data(customer_list, key_list):\n",
        "  '''Create a list of labelled data dictionaries including customer age from an\n",
        "  unlabelled list of customer data.'''\n",
        "\n",
        "  # Just like always, let's start with some error handling. Most problems are\n",
        "  # taken care of by the specifics of our functions, so all we need to prepare\n",
        "  # for are problems specific to our wrapper function. There's only one new\n",
        "  # way for this to fail: if customer_list is either not a list, or does not\n",
        "  # contain any customers. \n",
        "\n",
        "  if len(customer_list) < 1:\n",
        "    raise Exception('Input customer list cannot be empty')\n",
        "  if type(customer_list) != list:\n",
        "    raise Exception('Input customer list must be of type \"list\"')\n",
        "  \n",
        "  # The next step is to define an empty list to store our output dicts\n",
        "  output_list = []\n",
        "\n",
        "  # Now we loop over our list of customer info and call our other functions\n",
        "  # where they are needed\n",
        "  for customer in customer_list:\n",
        "\n",
        "    # First, turn each customer's info into a labelled dictionary\n",
        "    cust_dict = to_dictionary(customer, key_list)\n",
        "\n",
        "    # Then add an age column to each dictionary\n",
        "    add_age(cust_dict)\n",
        "\n",
        "    # Finally add our dictionary to an output list for our labelled data\n",
        "    output_list.append(cust_dict)\n",
        "\n",
        "  # The very last step is to output our list of labelled dictionaries\n",
        "  return output_list"
      ],
      "metadata": {
        "id": "xXGll8Q0LrTe"
      },
      "execution_count": null,
      "outputs": []
    },
    {
      "cell_type": "markdown",
      "source": [
        "## The moment of truth\n",
        "\n",
        "All of our functions are coded and ready. Here's a reminder of how everything will work before the big moment:\n",
        "\n",
        "\n",
        "\n",
        "1.   label_data will loop over our input unlabelled customer info list\n",
        "2.   to_dictionary will convert each customer's individual list into a dictionary using the list of keys we provide\n",
        "3.   add_age updates each dictionary by adding an age field\n",
        "4.   Finally, label_data returns our output list of labelled data dictionaries to use as we please.\n",
        "\n",
        "Let's run our final function now and see the results!\n",
        "\n"
      ],
      "metadata": {
        "id": "i9snCJb-RZcK"
      }
    },
    {
      "cell_type": "code",
      "source": [
        "# First we have to create our list of keys for label_data to use\n",
        "key_list = ['Name', 'Date of Birth', 'Driving Risk']\n",
        "\n",
        "# Now let's call our function, and save the output into our cust_list variable\n",
        "cust_list = label_data(customer_info, key_list)\n",
        "\n",
        "# The final step: loop over our new list and check everything worked!\n",
        "for customer in cust_list:\n",
        "  print(customer)"
      ],
      "metadata": {
        "id": "eio3yx8XOBu0"
      },
      "execution_count": null,
      "outputs": []
    },
    {
      "cell_type": "code",
      "source": [
        "# Let's print our original list as a comparison\n",
        "for customer in customer_info:\n",
        "  print(customer)"
      ],
      "metadata": {
        "id": "T1NDgOI2TX9i"
      },
      "execution_count": null,
      "outputs": []
    },
    {
      "cell_type": "markdown",
      "source": [
        "As you can see from our output, each of our customers has changed from a list of unlabelled data into a dictionary with appropriate headings. On top of that, we've even added a new age column (and we only had to run a single line of code!)"
      ],
      "metadata": {
        "id": "WK_MjBfcTJIk"
      }
    },
    {
      "cell_type": "markdown",
      "source": [
        "# More python!\n",
        "\n",
        "Hopefully this tutorial has been useful and given you at least a bit of understanding into some of python's most basic features. Python's building blocks are very straightforward, but can be combined to create very powerful porgrams and applications!\n",
        "\n",
        "This section is made of two parts and contains: \n",
        "\n",
        "*   Some python exercises for you to attempt on your own, which should help you test some of the techniques we've gone over here\n",
        "*   Links to some resources of some additional resources to further your python training, and some examples of the things that python code can do!\n",
        "\n"
      ],
      "metadata": {
        "id": "rBiqG3rRTqsy"
      }
    },
    {
      "cell_type": "markdown",
      "source": [
        "## Exercises\n",
        "\n",
        "These exercises are designed to test your skills and build on what you've learned today. There is no single perfect solution, and getting the answer right isn't even the point (although I do have some code of my attempts, if you want to check your work). \n",
        "\n",
        "The point of these exercises are just to give you a chance to apply your new talents - don't be afraid to look back at what's been written above, google anything that you're not clear on, or even just message me directly if you want some help!\n",
        "\n",
        "Hopefully these will be a bit of fun, and a way to kill some time while waiting for SAS ans SQL to finish running."
      ],
      "metadata": {
        "id": "2t9mfql_UVE7"
      }
    },
    {
      "cell_type": "markdown",
      "source": [
        "### Exercise 1: Fizzbuzz\n",
        "\n",
        "\n",
        "---\n",
        "\n",
        "\n",
        "Fizzbuzz is a classroom maths game. Kids sit in a circle and count from 1 to whatever number they decide. Each player says the next number in the sequence, unless the word is a multiple of 3 (which they replace with \"Fizz\"), 5 (which they replace with \"Buzz\"), or both (which they replace with \"Fizzbuzz\").\n",
        "\n",
        "![fizzbuzz](https://code.kx.com/q/img/fizzbuzz.png)\n",
        "\n",
        "In this exercise, trying writing some code that will automatically play the game of Fizzbuzz for the numbers 1 to 100. \n",
        "\n",
        "1.   Write some code that loops over the numbers from 1 to 100. For each number, print the number out to be read unless:\n",
        "  *   The number is a multiple of 3, in which case print the word \"Fizz\" (and nothing else)\n",
        "  *   The number is a multiple of 5, in which case print the word \"Buzz\" (and nothing else)\n",
        "  *   The number is a multiple of 3 *and* 5, in which case print the word \"Fizzbuzz\" (and nothing else)\n",
        "2.   Change your code so that you now print:\n",
        "  *   \"Fizz\" on every multiple of 2\n",
        "  *   \"Buzz\" on every multiple of 7\n",
        "  *   \"FizzBuzz\" on every multiple of both\n",
        "3.   Wrap your code in a custom function (if you haven't already), which should have the following arguments:\n",
        "  *   The range of numbers to loop over\n",
        "  *   The number for \"Fizz\" to be printed on each of its multiples\n",
        "  *   The number for \"Buzz\" to be printed on each of its multiples\n",
        "\n",
        "At the end of each step, make sure you take a look at your output and check that your function is working correctly!\n",
        "\n",
        "Tips:\n",
        "*   For this exercise, the modulo maths operator (%) will be very useful! It wasn't covered in this tutorial, but is an easy one to google.\n",
        "\n",
        "\n"
      ],
      "metadata": {
        "id": "K_ERvrztVbXV"
      }
    },
    {
      "cell_type": "markdown",
      "source": [
        "### Exercise 2: Rock, Paper, Scissors\n",
        "\n",
        "\n",
        "---\n",
        "\n",
        "\n",
        "\n",
        "Playing a game of rock, paper, scissors is very easy for humans but requires some careful thought to program. \n",
        "\n",
        "Unlike the previous exercise, you'll need to import some extra packages so that you have access to some more specific functions (like selected random choices). To program this code, you'll need to be able to both generate a random choice from a list and read in a guess from your user. \n",
        "\n",
        "![Rock, paper, scissors](https://miro.medium.com/max/800/1*8du96SQUQ0NlWmWvVu20Zw.png)\n",
        "\n",
        "1.   Import the \"random\" package and take a look at how it works. \n",
        "2.   Write some code that selects a random choice from a list of ```['rock', 'paper', 'scissors']```, and returns the choice as a variable.\n",
        "3.   Write some code that reads your guess and stores it in a variable.\n",
        "4.   Write a function that takes both guesses as an argument, and prints both guesses along with whether the computer or the player is the winner.\n",
        "5.   Write some error handling for your function to handle unexpected behaviour. \n",
        "     * What happens if the player spells their guess wrong? \n",
        "     * What happens if the game is a tie? \n",
        "     * What happens if the player enters a number?   \n",
        "\n",
        "See if you can solve some of the above problems in your function so that they are no longer errors (e.g. have your game automatically restart in the case of a tie). \n",
        "\n",
        "Tips: \n",
        "*   To select the computers guess, see if you can generate a number between 0-2 and remember that you can access elements of the list using indicies (e.g. ```my_list[0]```).\n",
        "*   There are a few ways that input can be read into a python program: text can either be read from a file, or read directly in from the keyboard using the ```input``` function. You can even try using some of google colab's advanced features if you're feeling brave!"
      ],
      "metadata": {
        "id": "XIbcgjA2tm7p"
      }
    },
    {
      "cell_type": "markdown",
      "source": [
        "### Exercise 3: Plot a graph\n",
        "\n",
        "\n",
        "---\n",
        "\n",
        "\n",
        "\n",
        "Using python to create graphs is very helpful for analysis, as you can visualise features of datasets without having to leave the program where you're doing your investigating. The most common way to do that is with the pyplot package from matplotlib. \n",
        "\n",
        "In this exercise, we'll draw our first plots using matplotlib.\n",
        "\n",
        "![matplotlib](https://camo.githubusercontent.com/109927a15915074d15313889468aa9aa688de3b9e38cc4359a01f665d351114e/68747470733a2f2f6d6174706c6f746c69622e6f72672f5f7374617469632f6c6f676f322e737667)\n",
        "\n",
        "We'll break this exercise into two halves: making your first plot, and improving your plotting code. \n",
        "\n",
        "For the first part:\n",
        "\n",
        "1.   Import the pyplot package from matplotlib (this was used as an example in the \"Importing packages\" section of this notebook)\n",
        "2.   Create two lists called x_pts and y_pts, which should contain the x and y coordinates of points to draw on a scatter plot. \n",
        "3.   Use pyplot to plot your points on a scatter plot.\n",
        "\n",
        "\n",
        "Tips: \n",
        "*   To complete this section, you'll need to investigate matplotlib and pyplot. These are both very common tools, so you'll find lots of questions being asked by people attempting the same/similar tasks\n",
        "\n",
        "For the second part:\n",
        "\n",
        "1.   Give your plot a title and axis labels (and feel free to play around with other design options like colours).\n",
        "2.   Create another two lists, and try plotting them on the same canvas. Don't use the exact same coordinates again, or you might struggle to see your new list.\n",
        "3.   Design a wrapper function that will take two lists of lists as input (one containing x coordinates, one containing y coordinates), and draw all of your lines at once on a single canvas.\n",
        "\n",
        "\n",
        "Tips:\n",
        "*   Just like before, there will be plenty of example on google that you can take advantage of and use as reference. You might also find matplotlib and pyplot's official documentation useful, which should have info on the layout and colour options that each function can take as arguments. \n",
        "*   Be careful with your use of plt.show() in your functions. plt.show() should only be run when you want to draw your final figure, so be careful not to run it too soon or some of your points might not appear. \n",
        "*   This exercise can definitely be tricky - feel free to peek at the solutions for inspiration if you find yourself stuck! "
      ],
      "metadata": {
        "id": "F5qON6uBZAoU"
      }
    },
    {
      "cell_type": "markdown",
      "source": [
        "## Further courses and applications\n",
        "\n",
        "If you're still hungry for some more python training, hopefully the following links can be of use to you: \n",
        "\n"
      ],
      "metadata": {
        "id": "Wd6RXhm4B2j1"
      }
    },
    {
      "cell_type": "markdown",
      "source": [
        "### Kaggle\n",
        "\n",
        "Kaggle is a company that runs machine learning competitions, and has many free courses on how to use python for data science and analysis. Kaggle's training includes time-series forecasting, neural networks, and even more advanced techniques. All of their courses are available here: \n",
        "\n",
        "https://www.kaggle.com/learn\n",
        "\n",
        "(We'll hopefully be looking at pandas and some other bits and pieces available here in a future session)."
      ],
      "metadata": {
        "id": "nBSLVeJC8vaT"
      }
    },
    {
      "cell_type": "markdown",
      "source": [
        "### Your first neural network\n",
        "\n",
        "Building a neural network (a simple version of the tools companies use whenever they talk about \"Artificial Intelligence\") is suprisingly easy in python! \n",
        "The link below will run you through a project on creating your first neural network to predict house prices (and might give you an idea of how similar techniques could be useful for insurance): \n",
        "\n",
        "https://www.freecodecamp.org/news/how-to-build-your-first-neural-network-to-predict-house-prices-with-keras-f8db83049159/"
      ],
      "metadata": {
        "id": "evQ3LW379R9p"
      }
    },
    {
      "cell_type": "markdown",
      "source": [
        "### Turtle racing!\n",
        "\n",
        "This youtube video is an hour long tutorial of creating a simple game to race a number of turtles. While it's a little bit sillier than the other examples, it's still really good practice for coding in a function oriented way, and uses a lot of the techniques we've gone over here (along with some new ones!)\n",
        "\n",
        "https://www.youtube.com/watch?v=gQP0geNsO4A"
      ],
      "metadata": {
        "id": "PyzIdV_hB_2X"
      }
    },
    {
      "cell_type": "markdown",
      "source": [
        "### Everything else\n",
        "\n",
        "Hopefully at least some of these will have sparked off some ideas of simple python tools you might be able to write to make your life easier. Don't be afraid to take a crack at any idea you have for even some complicated python code - google colab makes it very easy to quickly test out code without having to download anything at all!\n",
        "\n",
        "If you are interested in using python with some customer data, send me a message and I can talk you through the options for working with python for real."
      ],
      "metadata": {
        "id": "DQjwLQM0CSny"
      }
    }
  ]
}